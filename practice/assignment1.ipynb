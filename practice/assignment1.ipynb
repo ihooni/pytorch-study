{
 "cells": [
  {
   "cell_type": "markdown",
   "source": [
    "### 1. Plot two clusters of points for training dateset"
   ],
   "metadata": {
    "collapsed": false
   }
  },
  {
   "cell_type": "markdown",
   "source": [
    "- Generate two sets of separable random point clusters in $`\\mathbb{R}^2`$"
   ],
   "metadata": {
    "collapsed": false,
    "pycharm": {
     "name": "#%% md\n"
    }
   }
  },
  {
   "cell_type": "code",
   "execution_count": 24,
   "outputs": [],
   "source": [
    "import numpy as np\n",
    "\n",
    "cluster1_center = 10\n",
    "cluster2_center = 70\n",
    "\n",
    "cluster1_distance = 15\n",
    "cluster2_distance = 20\n",
    "\n",
    "cluster1_x_points = np.random.normal(cluster1_center, cluster1_distance, 100)\n",
    "cluster1_y_points = np.zeros(100)\n",
    "\n",
    "cluster2_x_points = np.random.normal(cluster2_center, cluster2_distance, 100)\n",
    "cluster2_y_points = np.ones(100)"
   ],
   "metadata": {
    "collapsed": false,
    "pycharm": {
     "name": "#%%\n",
     "is_executing": false
    }
   }
  },
  {
   "cell_type": "markdown",
   "source": [
    "- Let $`\\{ x_i \\}_{i=1}^n`$ be a set of points and $`\\{ y_i \\}_{i=1}^n`$ be their corresponding labels"
   ],
   "metadata": {
    "collapsed": false,
    "pycharm": {
     "name": "#%% md\n"
    }
   }
  },
  {
   "cell_type": "code",
   "execution_count": 25,
   "outputs": [],
   "source": [
    "x_train = np.concatenate((cluster1_x_points, cluster2_x_points))\n",
    "y_train = np.concatenate((cluster1_y_points, cluster2_y_points))"
   ],
   "metadata": {
    "collapsed": false,
    "pycharm": {
     "name": "#%%\n",
     "is_executing": false
    }
   }
  },
  {
   "cell_type": "markdown",
   "source": [
    "- Plot the point clusters in the training dataset using different colors depending on their labels"
   ],
   "metadata": {
    "collapsed": false
   }
  },
  {
   "cell_type": "code",
   "execution_count": 26,
   "outputs": [
    {
     "data": {
      "text/plain": "<Figure size 432x288 with 1 Axes>",
      "image/png": "[encoded data removed]"
     },
     "metadata": {
      "needs_background": "light"
     },
     "output_type": "display_data"
    }
   ],
   "source": [
    "import matplotlib.pyplot as plt\n",
    "\n",
    "plt.title('training dataset')\n",
    "plt.xlabel('x')\n",
    "plt.ylabel('y')\n",
    "plt.scatter(x_train, y_train, c=y_train, cmap='coolwarm')\n",
    "plt.show()"
   ],
   "metadata": {
    "collapsed": false,
    "pycharm": {
     "name": "#%%\n",
     "is_executing": false
    }
   }
  },
  {
   "cell_type": "markdown",
   "source": [
    "### 2. Plot two clusters of points for testing dataset"
   ],
   "metadata": {
    "collapsed": false,
    "pycharm": {
     "name": "#%% md\n"
    }
   }
  },
  {
   "cell_type": "markdown",
   "source": [
    "- Generate two sets of separable random point clusters in $`\\mathbb{R}^2`$ for a testing dataset using the same centroid and the standard deviation of random generator as the training dataset"
   ],
   "metadata": {
    "collapsed": false,
    "pycharm": {
     "name": "#%% md\n"
    }
   }
  },
  {
   "cell_type": "code",
   "execution_count": 27,
   "outputs": [],
   "source": [
    "cluster1_x_points = np.random.normal(cluster1_center, cluster1_distance, 100)\n",
    "cluster1_y_points = np.zeros(100)\n",
    "\n",
    "cluster2_x_points = np.random.normal(cluster2_center, cluster2_distance, 100)\n",
    "cluster2_y_points = np.ones(100)\n",
    "\n",
    "x_test = np.concatenate((cluster1_x_points, cluster2_x_points))\n",
    "y_test = np.concatenate((cluster1_y_points, cluster2_y_points))\n"
   ],
   "metadata": {
    "collapsed": false,
    "pycharm": {
     "name": "#%%\n",
     "is_executing": false
    }
   }
  },
  {
   "cell_type": "markdown",
   "source": [
    "- Plot the point clusters in the testing dataset using different colors depending on their labels (different colors from the training dataset)\n"
   ],
   "metadata": {
    "collapsed": false
   }
  },
  {
   "cell_type": "code",
   "execution_count": 28,
   "outputs": [
    {
     "data": {
      "text/plain": "<Figure size 432x288 with 1 Axes>",
      "image/png": "[encoded data removed]"
     },
     "metadata": {
      "needs_background": "light"
     },
     "output_type": "display_data"
    }
   ],
   "source": [
    "plt.title('testing dataset')\n",
    "plt.xlabel('x')\n",
    "plt.ylabel('y')\n",
    "plt.scatter(x_test, y_test, c=y_test, cmap='PuOr')\n",
    "plt.show()\n"
   ],
   "metadata": {
    "collapsed": false,
    "pycharm": {
     "name": "#%%\n",
     "is_executing": false
    }
   }
  }
 ],
 "metadata": {
  "kernelspec": {
   "display_name": "Python 3",
   "language": "python",
   "name": "python3"
  },
  "language_info": {
   "codemirror_mode": {
    "name": "ipython",
    "version": 2
   },
   "file_extension": ".py",
   "mimetype": "text/x-python",
   "name": "python",
   "nbconvert_exporter": "python",
   "pygments_lexer": "ipython2",
   "version": "2.7.6"
  },
  "pycharm": {
   "stem_cell": {
    "cell_type": "raw",
    "source": [],
    "metadata": {
     "collapsed": false
    }
   }
  }
 },
 "nbformat": 4,
 "nbformat_minor": 0
}