{
 "nbformat": 4,
 "nbformat_minor": 2,
 "metadata": {
  "language_info": {
   "name": "python",
   "codemirror_mode": {
    "name": "ipython",
    "version": 3
   },
   "version": "3.7.6-final"
  },
  "orig_nbformat": 2,
  "file_extension": ".py",
  "mimetype": "text/x-python",
  "name": "python",
  "npconvert_exporter": "python",
  "pygments_lexer": "ipython3",
  "version": 3,
  "kernelspec": {
   "name": "python37664bitpytorchstudyconda6cfeeef4c74546dc94441bb393b1ec01",
   "display_name": "Python 3.7.6 64-bit ('pytorch-study': conda)"
  },
  "pycharm": {
   "stem_cell": {
    "cell_type": "raw",
    "source": [],
    "metadata": {
     "collapsed": false
    }
   }
  }
 },
 "cells": [
  {
   "cell_type": "markdown",
   "execution_count": null,
   "metadata": {},
   "outputs": [],
   "source": [
    "### TODO\n",
    "\n",
    "- [x] vectorize an input image matrix into a column vector\n",
    "- [ ] compute the loss\n",
    "- [ ] compute the accuracy\n",
    "- [ ] compute the gradient of the model parameters with respect to the loss\n",
    "- [ ] update the model parameters\n",
    "- [ ] plot the results\n",
    "- [ ] Apply the number of iterations that lead to the convergence of the algorithm\n",
    "\n"
   ]
  },
  {
   "cell_type": "markdown",
   "execution_count": null,
   "metadata": {},
   "outputs": [],
   "source": [
    "### 1. Load training/validation image dataset"
   ]
  },
  {
   "cell_type": "code",
   "execution_count": 32,
   "metadata": {},
   "outputs": [],
   "source": [
    "import torch\n",
    "import torchvision\n",
    "import torchvision.transforms as transforms\n",
    "\n",
    "# define vectorize transformer\n",
    "class VectorizeTransform:\n",
    "    def __call__(self, img):\n",
    "        return torch.reshape(img, (-1, ))\n",
    "\n",
    "# compose image transformer\n",
    "transform = transforms.Compose([\n",
    "    transforms.Grayscale(),\n",
    "    transforms.ToTensor(),\n",
    "    VectorizeTransform()    # for vectorizing input image\n",
    "])\n",
    "\n",
    "# load training dataset\n",
    "train_data_path = './data/horse-or-human/train'\n",
    "train_dataset = torchvision.datasets.ImageFolder(root=train_data_path, transform=transform)\n",
    "train_loader = torch.utils.data.DataLoader(\n",
    "    train_dataset,\n",
    "    batch_size=8,\n",
    "    shuffle=True,\n",
    "    num_workers=4\n",
    ")\n",
    "\n",
    "# load validation dataset\n",
    "valid_data_path = './data/horse-or-human/validation'\n",
    "valid_dataset = torchvision.datasets.ImageFolder(root=valid_data_path, transform=transform)\n",
    "valid_loader = torch.utils.data.DataLoader(\n",
    "    valid_dataset,\n",
    "    batch_size=8,\n",
    "    shuffle=True,\n",
    "    num_workers=4\n",
    ")\n"
   ]
  },
  {
   "cell_type": "code",
   "execution_count": 33,
   "metadata": {},
   "outputs": [
    {
     "name": "stdout",
     "output_type": "stream",
     "text": "torch.Size([8, 10000])\ntensor([1, 1, 0, 0, 1, 0, 0, 0])\ntorch.Size([8, 10000])\ntensor([0, 0, 1, 1, 0, 1, 1, 0])\ntorch.Size([8, 10000])\ntensor([1, 1, 1, 1, 1, 0, 1, 0])\ntorch.Size([8, 10000])\ntensor([1, 1, 1, 0, 0, 0, 0, 0])\ntorch.Size([8, 10000])\ntensor([1, 0, 0, 0, 0, 1, 0, 1])\ntorch.Size([8, 10000])\ntensor([1, 1, 1, 1, 0, 0, 0, 1])\ntorch.Size([8, 10000])\ntensor([1, 1, 0, 1, 0, 0, 1, 1])\ntorch.Size([8, 10000])\ntensor([0, 1, 0, 0, 0, 1, 0, 0])\ntorch.Size([8, 10000])\ntensor([0, 1, 1, 0, 1, 0, 0, 1])\ntorch.Size([8, 10000])\ntensor([0, 1, 1, 0, 0, 1, 0, 1])\ntorch.Size([8, 10000])\ntensor([1, 1, 1, 1, 0, 0, 0, 1])\ntorch.Size([8, 10000])\ntensor([1, 1, 1, 0, 1, 0, 1, 1])\ntorch.Size([8, 10000])\ntensor([1, 1, 1, 1, 0, 1, 0, 1])\ntorch.Size([8, 10000])\ntensor([1, 1, 1, 1, 0, 0, 1, 1])\ntorch.Size([8, 10000])\ntensor([0, 1, 1, 1, 0, 0, 0, 1])\ntorch.Size([8, 10000])\ntensor([0, 0, 0, 0, 1, 0, 0, 0])\ntorch.Size([8, 10000])\ntensor([1, 0, 0, 1, 0, 0, 1, 0])\ntorch.Size([8, 10000])\ntensor([0, 1, 1, 1, 1, 0, 0, 1])\ntorch.Size([8, 10000])\ntensor([0, 1, 1, 0, 1, 1, 1, 1])\ntorch.Size([8, 10000])\ntensor([0, 0, 1, 0, 1, 1, 0, 1])\ntorch.Size([8, 10000])\ntensor([0, 0, 0, 1, 0, 1, 0, 0])\ntorch.Size([8, 10000])\ntensor([0, 0, 0, 1, 0, 0, 1, 0])\ntorch.Size([8, 10000])\ntensor([1, 1, 0, 0, 0, 0, 0, 1])\ntorch.Size([8, 10000])\ntensor([0, 0, 0, 0, 1, 0, 0, 1])\ntorch.Size([8, 10000])\ntensor([0, 1, 1, 0, 0, 1, 0, 0])\ntorch.Size([8, 10000])\ntensor([0, 1, 0, 1, 0, 1, 0, 0])\ntorch.Size([8, 10000])\ntensor([1, 1, 0, 1, 0, 1, 1, 0])\ntorch.Size([8, 10000])\ntensor([1, 0, 1, 0, 0, 1, 0, 0])\ntorch.Size([8, 10000])\ntensor([1, 1, 1, 1, 0, 0, 0, 1])\ntorch.Size([8, 10000])\ntensor([0, 1, 0, 1, 1, 1, 1, 1])\ntorch.Size([8, 10000])\ntensor([1, 0, 0, 0, 1, 1, 1, 1])\ntorch.Size([8, 10000])\ntensor([1, 0, 0, 1, 1, 0, 0, 1])\ntorch.Size([8, 10000])\ntensor([0, 0, 1, 0, 0, 0, 1, 0])\ntorch.Size([8, 10000])\ntensor([0, 1, 1, 1, 1, 1, 0, 0])\ntorch.Size([8, 10000])\ntensor([0, 1, 0, 1, 1, 1, 0, 0])\ntorch.Size([8, 10000])\ntensor([1, 0, 1, 1, 1, 1, 0, 1])\ntorch.Size([8, 10000])\ntensor([0, 0, 0, 0, 0, 1, 1, 0])\ntorch.Size([8, 10000])\ntensor([1, 1, 0, 0, 0, 1, 0, 1])\ntorch.Size([8, 10000])\ntensor([1, 1, 1, 0, 1, 0, 0, 1])\ntorch.Size([8, 10000])\ntensor([1, 1, 1, 1, 1, 0, 0, 1])\ntorch.Size([8, 10000])\ntensor([1, 0, 1, 0, 0, 1, 0, 1])\ntorch.Size([8, 10000])\ntensor([1, 1, 1, 1, 0, 0, 1, 1])\ntorch.Size([8, 10000])\ntensor([0, 1, 0, 1, 0, 1, 1, 0])\ntorch.Size([8, 10000])\ntensor([1, 0, 1, 1, 1, 0, 0, 0])\ntorch.Size([8, 10000])\ntensor([1, 0, 1, 0, 0, 0, 0, 0])\ntorch.Size([8, 10000])\ntensor([0, 0, 0, 1, 1, 0, 0, 1])\ntorch.Size([8, 10000])\ntensor([1, 1, 0, 1, 1, 1, 0, 1])\ntorch.Size([8, 10000])\ntensor([0, 0, 1, 1, 1, 1, 1, 1])\ntorch.Size([8, 10000])\ntensor([1, 1, 1, 1, 1, 1, 1, 1])\ntorch.Size([8, 10000])\ntensor([0, 0, 0, 0, 0, 1, 0, 1])\ntorch.Size([8, 10000])\ntensor([1, 0, 0, 0, 1, 1, 0, 0])\ntorch.Size([8, 10000])\ntensor([1, 1, 1, 0, 1, 0, 1, 0])\ntorch.Size([8, 10000])\ntensor([1, 0, 0, 1, 1, 0, 0, 0])\ntorch.Size([8, 10000])\ntensor([1, 1, 0, 0, 1, 0, 1, 1])\ntorch.Size([8, 10000])\ntensor([1, 1, 1, 1, 1, 0, 0, 1])\ntorch.Size([8, 10000])\ntensor([0, 0, 1, 0, 1, 0, 0, 1])\ntorch.Size([8, 10000])\ntensor([1, 1, 0, 0, 1, 1, 0, 1])\ntorch.Size([8, 10000])\ntensor([1, 1, 1, 1, 1, 1, 0, 0])\ntorch.Size([8, 10000])\ntensor([1, 1, 1, 0, 1, 0, 1, 0])\ntorch.Size([8, 10000])\ntensor([1, 0, 0, 0, 1, 0, 1, 0])\ntorch.Size([8, 10000])\ntensor([0, 1, 0, 0, 1, 1, 1, 0])\ntorch.Size([8, 10000])\ntensor([1, 0, 0, 0, 0, 0, 1, 0])\ntorch.Size([8, 10000])\ntensor([1, 1, 1, 0, 0, 0, 0, 0])\ntorch.Size([8, 10000])\ntensor([1, 0, 1, 1, 0, 0, 0, 1])\ntorch.Size([8, 10000])\ntensor([0, 1, 0, 1, 0, 0, 1, 0])\ntorch.Size([8, 10000])\ntensor([1, 0, 1, 1, 1, 1, 0, 0])\ntorch.Size([8, 10000])\ntensor([1, 1, 1, 1, 0, 0, 1, 0])\ntorch.Size([8, 10000])\ntensor([1, 0, 0, 0, 0, 1, 1, 0])\ntorch.Size([8, 10000])\ntensor([1, 0, 1, 0, 0, 1, 1, 1])\ntorch.Size([8, 10000])\ntensor([1, 1, 0, 0, 1, 1, 1, 1])\ntorch.Size([8, 10000])\ntensor([0, 0, 1, 0, 0, 1, 1, 1])\ntorch.Size([8, 10000])\ntensor([1, 0, 0, 1, 0, 0, 0, 0])\ntorch.Size([8, 10000])\ntensor([1, 1, 1, 1, 1, 0, 1, 1])\ntorch.Size([8, 10000])\ntensor([1, 1, 1, 0, 1, 1, 0, 1])\ntorch.Size([8, 10000])\ntensor([1, 1, 0, 0, 0, 1, 1, 1])\ntorch.Size([8, 10000])\ntensor([0, 1, 1, 1, 1, 1, 0, 0])\ntorch.Size([8, 10000])\ntensor([0, 1, 0, 1, 0, 1, 1, 1])\ntorch.Size([8, 10000])\ntensor([1, 0, 1, 0, 0, 0, 1, 0])\ntorch.Size([8, 10000])\ntensor([1, 1, 1, 1, 0, 0, 0, 0])\ntorch.Size([8, 10000])\ntensor([0, 0, 0, 0, 0, 0, 1, 1])\ntorch.Size([8, 10000])\ntensor([0, 1, 1, 0, 0, 1, 0, 1])\ntorch.Size([8, 10000])\ntensor([0, 1, 1, 0, 1, 1, 0, 1])\ntorch.Size([8, 10000])\ntensor([0, 0, 1, 1, 1, 0, 0, 0])\ntorch.Size([8, 10000])\ntensor([0, 0, 0, 1, 0, 0, 1, 1])\ntorch.Size([8, 10000])\ntensor([0, 0, 0, 1, 0, 1, 1, 1])\ntorch.Size([8, 10000])\ntensor([1, 0, 1, 1, 0, 1, 0, 1])\ntorch.Size([8, 10000])\ntensor([0, 0, 1, 1, 1, 0, 1, 1])\ntorch.Size([8, 10000])\ntensor([1, 0, 0, 1, 0, 0, 1, 1])\ntorch.Size([8, 10000])\ntensor([0, 1, 0, 0, 0, 0, 1, 0])\ntorch.Size([8, 10000])\ntensor([0, 0, 1, 1, 1, 0, 1, 1])\ntorch.Size([8, 10000])\ntensor([1, 1, 1, 1, 0, 0, 0, 0])\ntorch.Size([8, 10000])\ntensor([1, 0, 0, 1, 1, 1, 0, 0])\ntorch.Size([8, 10000])\ntensor([0, 1, 0, 0, 0, 0, 1, 0])\ntorch.Size([8, 10000])\ntensor([1, 1, 0, 1, 1, 1, 1, 1])\ntorch.Size([8, 10000])\ntensor([0, 0, 1, 0, 0, 0, 1, 1])\ntorch.Size([8, 10000])\ntensor([1, 0, 1, 0, 0, 1, 1, 0])\ntorch.Size([8, 10000])\ntensor([0, 0, 0, 0, 1, 1, 0, 1])\ntorch.Size([8, 10000])\ntensor([0, 1, 1, 1, 0, 1, 1, 0])\ntorch.Size([8, 10000])\ntensor([1, 1, 0, 1, 0, 0, 0, 0])\ntorch.Size([8, 10000])\ntensor([1, 0, 1, 0, 1, 0, 1, 1])\ntorch.Size([8, 10000])\ntensor([1, 0, 0, 1, 1, 0, 0, 1])\ntorch.Size([8, 10000])\ntensor([1, 1, 1, 1, 1, 1, 1, 0])\ntorch.Size([8, 10000])\ntensor([1, 0, 0, 1, 0, 1, 0, 0])\ntorch.Size([8, 10000])\ntensor([0, 1, 0, 1, 0, 1, 1, 0])\ntorch.Size([8, 10000])\ntensor([0, 1, 1, 1, 0, 1, 0, 1])\ntorch.Size([8, 10000])\ntensor([0, 0, 1, 0, 1, 0, 0, 0])\ntorch.Size([8, 10000])\ntensor([0, 0, 0, 0, 0, 0, 0, 1])\ntorch.Size([8, 10000])\ntensor([1, 1, 1, 1, 0, 0, 1, 1])\ntorch.Size([8, 10000])\ntensor([0, 0, 0, 1, 1, 0, 0, 1])\ntorch.Size([8, 10000])\ntensor([1, 0, 1, 1, 1, 0, 0, 0])\ntorch.Size([8, 10000])\ntensor([1, 0, 1, 0, 1, 0, 1, 0])\ntorch.Size([8, 10000])\ntensor([0, 1, 1, 0, 0, 0, 0, 1])\ntorch.Size([8, 10000])\ntensor([0, 1, 0, 1, 0, 1, 0, 1])\ntorch.Size([8, 10000])\ntensor([0, 0, 1, 1, 0, 0, 0, 0])\ntorch.Size([8, 10000])\ntensor([0, 1, 1, 0, 1, 1, 0, 0])\ntorch.Size([8, 10000])\ntensor([1, 0, 1, 1, 0, 1, 0, 0])\ntorch.Size([8, 10000])\ntensor([1, 1, 1, 1, 1, 0, 0, 0])\ntorch.Size([8, 10000])\ntensor([1, 0, 1, 1, 1, 0, 1, 0])\ntorch.Size([8, 10000])\ntensor([0, 1, 0, 1, 0, 0, 0, 1])\ntorch.Size([8, 10000])\ntensor([0, 1, 0, 1, 1, 1, 1, 0])\ntorch.Size([8, 10000])\ntensor([0, 1, 0, 0, 1, 1, 1, 1])\ntorch.Size([8, 10000])\ntensor([1, 0, 0, 0, 0, 0, 1, 1])\ntorch.Size([8, 10000])\ntensor([0, 1, 1, 0, 0, 0, 0, 1])\ntorch.Size([8, 10000])\ntensor([1, 1, 0, 1, 1, 1, 1, 0])\ntorch.Size([8, 10000])\ntensor([1, 0, 0, 1, 0, 0, 0, 0])\ntorch.Size([8, 10000])\ntensor([0, 0, 0, 1, 0, 0, 1, 0])\ntorch.Size([8, 10000])\ntensor([0, 1, 1, 0, 1, 1, 1, 1])\ntorch.Size([8, 10000])\ntensor([1, 0, 1, 1, 1, 0, 1, 0])\ntorch.Size([3, 10000])\ntensor([1, 1, 1])\n"
    }
   ],
   "source": [
    "for batch_idx, (images, labels) in enumerate(train_loader):\n",
    "    print(images.shape)\n",
    "    print(labels)\n",
    "\n",
    "\n",
    "\n",
    "\n",
    "\n"
   ]
  },
  {
   "cell_type": "code",
   "execution_count": null,
   "metadata": {},
   "outputs": [],
   "source": []
  }
 ]
}