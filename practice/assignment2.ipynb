{
  "nbformat": 4,
  "nbformat_minor": 0,
  "metadata": {
    "language_info": {
      "name": "python",
      "codemirror_mode": {
        "name": "ipython",
        "version": 3
      },
      "version": "3.7.6-final"
    },
    "orig_nbformat": 2,
    "file_extension": ".py",
    "mimetype": "text/x-python",
    "name": "python",
    "npconvert_exporter": "python",
    "pygments_lexer": "ipython3",
    "version": 3,
    "kernelspec": {
      "name": "python37664bitpytorchstudyconda6cfeeef4c74546dc94441bb393b1ec01",
      "language": "python",
      "display_name": "Python 3.7.6 64-bit ('pytorch-study': conda)"
    },
    "pycharm": {
      "stem_cell": {
        "cell_type": "raw",
        "source": [],
        "metadata": {
          "collapsed": false
        }
      }
    },
    "colab": {
      "name": "assignment2.ipynb",
      "provenance": [],
      "collapsed_sections": [],
      "toc_visible": true
    }
  },
  "cells": [
    {
      "cell_type": "markdown",
      "metadata": {
        "id": "Rp5ju-B_Frjt",
        "colab_type": "text"
      },
      "source": [
        "### TODO\n",
        "\n",
        "- ✅ vectorize an input image matrix into a column vector\n",
        "- ✅ compute the loss\n",
        "- ✅ compute the accuracy\n",
        "- ✅ compute the gradient of the model parameters with respect to the loss\n",
        "- ✅ update the model parameters\n",
        "- ✅ plot the results\n",
        "- ✅ Apply the number of iterations that lead to the convergence of the algorithm (mini batch 256 vs batch gradient descent + larger learning rate)\n",
        "\n"
      ]
    },
    {
      "cell_type": "markdown",
      "metadata": {
        "pycharm": {
          "name": "#%% md\n"
        },
        "id": "0whuyKh3Frjv",
        "colab_type": "text"
      },
      "source": [
        "### 1. Load training/validation image dataset"
      ]
    },
    {
      "cell_type": "code",
      "metadata": {
        "id": "dcglh9zSFrjw",
        "colab_type": "code",
        "colab": {}
      },
      "source": [
        "import torch\n",
        "import torchvision\n",
        "import torchvision.transforms as transforms\n",
        "\n",
        "# define vectorize transformer\n",
        "class VectorizeTransform:\n",
        "    def __call__(self, img):\n",
        "        return torch.reshape(img, (-1, ))\n",
        "\n",
        "# compose image transformer\n",
        "transform = transforms.Compose([\n",
        "    transforms.Grayscale(),\n",
        "    transforms.ToTensor(),\n",
        "    VectorizeTransform()    # for vectorizing input image\n",
        "])\n",
        "\n",
        "# load training dataset\n",
        "train_data_path = './data/horse-or-human/train'\n",
        "train_dataset = torchvision.datasets.ImageFolder(root=train_data_path, transform=transform)\n",
        "train_loader = torch.utils.data.DataLoader(\n",
        "    train_dataset,\n",
        "    batch_size=2048,\n",
        "    shuffle=True,\n",
        "    num_workers=0\n",
        ")\n",
        "\n",
        "# load validation dataset\n",
        "valid_data_path = './data/horse-or-human/validation'\n",
        "valid_dataset = torchvision.datasets.ImageFolder(root=valid_data_path, transform=transform)\n",
        "valid_loader = torch.utils.data.DataLoader(\n",
        "    valid_dataset,\n",
        "    batch_size=2048,\n",
        "    shuffle=True,\n",
        "    num_workers=0\n",
        ")"
      ],
      "execution_count": 0,
      "outputs": []
    },
    {
      "cell_type": "markdown",
      "metadata": {
        "collapsed": false,
        "id": "trUQIdvJFrj1",
        "colab_type": "text"
      },
      "source": [
        "### 2. Learning with the gradient descent in logistic regression"
      ]
    },
    {
      "cell_type": "code",
      "metadata": {
        "id": "GpjnfzqsFrj2",
        "colab_type": "code",
        "colab": {}
      },
      "source": [
        "def sigmoid(z):\n",
        "    return 1 / (1 + torch.exp(-z))\n",
        "\n",
        "def cost(y_pred, y):\n",
        "    epsilon = 1e-12\n",
        "    return -1 * (torch.mean(\n",
        "        y * torch.log(y_pred + epsilon) + (1 - y) * torch.log(1 - y_pred + epsilon)\n",
        "    ))\n",
        "\n",
        "def accuracy(pred, actual):\n",
        "    result = (pred > 0.5).float()\n",
        "    return torch.mean((result == actual).float())\n",
        "\n",
        "def forward(data_loader, w, b):\n",
        "    data_count = len(data_loader.dataset)\n",
        "    mean_loss = 0\n",
        "    mean_acc = 0\n",
        "\n",
        "    # for each mini batch of data\n",
        "    for batch_idx, (x, y) in enumerate(data_loader):\n",
        "        batch_size = x.shape[0] # get current batch size\n",
        "        \n",
        "        y = torch.reshape(y, (batch_size, 1)) # reshape y from [batch_size] to [batch_size, 1] \n",
        "        y_pred = sigmoid(torch.matmul(x, w.T) + b) # compute y^\n",
        "\n",
        "        loss = cost(y_pred, y) # compute the loss \n",
        "        acc = accuracy(y_pred, y) # compute the accuracy\n",
        "\n",
        "        mean_loss += batch_size * loss\n",
        "        mean_acc += batch_size * acc\n",
        "\n",
        "    mean_loss /= data_count\n",
        "    mean_acc /= data_count\n",
        "\n",
        "    return mean_loss, mean_acc\n",
        "\n",
        "def backward(data_loader, w, b, lr):\n",
        "    # for each mini batch of train data\n",
        "    for batch_idx, (x_train, y_train) in enumerate(data_loader):\n",
        "        batch_size = x_train.shape[0] # get current batch size\n",
        "        \n",
        "        y_train = torch.reshape(y_train, (batch_size, 1)) # reshape y_train from [batch_size] to [batch_size, 1] \n",
        "        y_pred_train = sigmoid(torch.matmul(x_train, w.T) + b) # compute y^\n",
        "\n",
        "        # compute the gradient of the model parameters\n",
        "        dw = (1 / batch_size) * torch.matmul((y_pred_train - y_train).T, x_train)\n",
        "        db = (1 / batch_size) * torch.sum(y_pred_train - y_train)\n",
        "\n",
        "        # update the model parameters\n",
        "        w -= lr * dw\n",
        "        b -= lr * db\n",
        "\n",
        "    return w, b\n",
        "\n",
        "def elapsed_time_in_milli(start_time):\n",
        "    curr_time = datetime.datetime.now()\n",
        "    return int((curr_time - start_time).total_seconds() * 1000)\n",
        "\n"
      ],
      "execution_count": 0,
      "outputs": []
    },
    {
      "cell_type": "code",
      "metadata": {
        "id": "HwtGnOPZFrj5",
        "colab_type": "code",
        "outputId": "7a8422b9-6d0a-43de-eca1-ffedecc4b6d1",
        "colab": {
          "base_uri": "https://localhost:8080/",
          "height": 1000
        }
      },
      "source": [
        "import datetime\n",
        "\n",
        "# get sample data for initializing parameters\n",
        "it = iter(train_loader)\n",
        "images, labels = it.next()\n",
        "\n",
        "# initialize parameters\n",
        "epoch_count = 5000\n",
        "lr = 0.002\n",
        "w = torch.zeros((1, images.shape[1]))\n",
        "b = 0\n",
        "\n",
        "train_losses = []\n",
        "train_accs = []\n",
        "\n",
        "valid_losses = []\n",
        "valid_accs = []\n",
        "\n",
        "elapsed_times = []\n",
        "\n",
        "# for each epoch\n",
        "for epoch in range(epoch_count):\n",
        "    start_time = datetime.datetime.now()\n",
        "\n",
        "    # compute current epoch's loss and accuracy\n",
        "    train_loss, train_acc = forward(train_loader, w, b)\n",
        "    valid_loss, valid_acc = forward(valid_loader, w, b)\n",
        "\n",
        "    # backward propagation: update model parameters\n",
        "    w, b = backward(train_loader, w, b, lr)\n",
        "\n",
        "    # append current epoch's elapsed time\n",
        "    elapsed_times.append(elapsed_time_in_milli(start_time))\n",
        "\n",
        "    # append current epoch's train loss and accuracy\n",
        "    train_losses.append(train_loss)\n",
        "    train_accs.append(train_acc)\n",
        "    valid_losses.append(valid_loss)\n",
        "    valid_accs.append(valid_acc)\n",
        "\n",
        "    # show the intermediate outputs\n",
        "    if epoch % 500 == 0:\n",
        "      print(f'epoch: {epoch}')\n",
        "      print(f'train loss: {train_loss}')\n",
        "      print(f'train accuracy: {train_acc}')\n",
        "      print(f'validation loss: {valid_loss}')\n",
        "      print(f'validation accuracy: {valid_acc}\\n\\n')\n"
      ],
      "execution_count": 27,
      "outputs": [
        {
          "output_type": "stream",
          "text": [
            "epoch: 0\n",
            "train loss: 0.693147599697113\n",
            "train accuracy: 0.4868549108505249\n",
            "validation loss: 0.6931471824645996\n",
            "validation accuracy: 0.5\n",
            "\n",
            "\n",
            "epoch: 500\n",
            "train loss: 0.4058874547481537\n",
            "train accuracy: 0.8442064523696899\n",
            "validation loss: 0.3064970374107361\n",
            "validation accuracy: 0.87109375\n",
            "\n",
            "\n",
            "epoch: 1000\n",
            "train loss: 0.3479083180427551\n",
            "train accuracy: 0.8704965710639954\n",
            "validation loss: 0.3135223686695099\n",
            "validation accuracy: 0.8515625\n",
            "\n",
            "\n",
            "epoch: 1500\n",
            "train loss: 0.3130395710468292\n",
            "train accuracy: 0.8880233764648438\n",
            "validation loss: 0.33001047372817993\n",
            "validation accuracy: 0.83984375\n",
            "\n",
            "\n",
            "epoch: 2000\n",
            "train loss: 0.287967711687088\n",
            "train accuracy: 0.8967867493629456\n",
            "validation loss: 0.3463725447654724\n",
            "validation accuracy: 0.8203125\n",
            "\n",
            "\n",
            "epoch: 2500\n",
            "train loss: 0.2683314383029938\n",
            "train accuracy: 0.9123660922050476\n",
            "validation loss: 0.3613598942756653\n",
            "validation accuracy: 0.81640625\n",
            "\n",
            "\n",
            "epoch: 3000\n",
            "train loss: 0.25218090415000916\n",
            "train accuracy: 0.922103226184845\n",
            "validation loss: 0.3749275207519531\n",
            "validation accuracy: 0.8046875\n",
            "\n",
            "\n",
            "epoch: 3500\n",
            "train loss: 0.23847393691539764\n",
            "train accuracy: 0.9328140020370483\n",
            "validation loss: 0.38724955916404724\n",
            "validation accuracy: 0.80078125\n",
            "\n",
            "\n",
            "epoch: 4000\n",
            "train loss: 0.2265840768814087\n",
            "train accuracy: 0.9367088675498962\n",
            "validation loss: 0.39852043986320496\n",
            "validation accuracy: 0.796875\n",
            "\n",
            "\n",
            "epoch: 4500\n",
            "train loss: 0.21610260009765625\n",
            "train accuracy: 0.9444985389709473\n",
            "validation loss: 0.40890926122665405\n",
            "validation accuracy: 0.79296875\n",
            "\n",
            "\n"
          ],
          "name": "stdout"
        }
      ]
    },
    {
      "cell_type": "markdown",
      "metadata": {
        "id": "-g1UEXnCFrj7",
        "colab_type": "text"
      },
      "source": [
        "### 3. Plot the outputs"
      ]
    },
    {
      "cell_type": "code",
      "metadata": {
        "id": "QVY3_NsLFrj8",
        "colab_type": "code",
        "outputId": "7d102c0e-8028-465e-b836-39b35e8d7a3e",
        "colab": {
          "base_uri": "https://localhost:8080/",
          "height": 295
        }
      },
      "source": [
        "import matplotlib.pyplot as plt\n",
        "\n",
        "# plot the elapsed time at every epoch\n",
        "epoch_count = range(1, len(elapsed_times) + 1)\n",
        "plt.title('Elapsed time at every iteration')\n",
        "plt.scatter(epoch_count, elapsed_times, c='g')\n",
        "plt.xlabel('Epoch')\n",
        "plt.ylabel('Elapsed time(milliseconds)')\n",
        "plt.show()\n"
      ],
      "execution_count": 28,
      "outputs": [
        {
          "output_type": "display_data",
          "data": {
            "image/png": "[encoded data removed]",
            "text/plain": [
              "<Figure size 432x288 with 1 Axes>"
            ]
          },
          "metadata": {
            "tags": []
          }
        }
      ]
    },
    {
      "cell_type": "code",
      "metadata": {
        "id": "Y03qhF16FrkA",
        "colab_type": "code",
        "outputId": "fd9fa171-3011-4d09-8f8a-cf7fd3e0cbd6",
        "colab": {
          "base_uri": "https://localhost:8080/",
          "height": 295
        }
      },
      "source": [
        "# plot the training and validation loss at every epoch\n",
        "epoch_count = range(1, len(train_losses) + 1)\n",
        "plt.title('Loss at every iteration')\n",
        "plt.plot(epoch_count, train_losses, 'r-')\n",
        "plt.plot(epoch_count, valid_losses, 'b-')\n",
        "plt.legend(['Training Loss', 'Validation Loss'])\n",
        "plt.xlabel('Epoch')\n",
        "plt.ylabel('Loss')\n",
        "plt.show()\n"
      ],
      "execution_count": 29,
      "outputs": [
        {
          "output_type": "display_data",
          "data": {
            "image/png": "[encoded data removed]",
            "text/plain": [
              "<Figure size 432x288 with 1 Axes>"
            ]
          },
          "metadata": {
            "tags": []
          }
        }
      ]
    },
    {
      "cell_type": "code",
      "metadata": {
        "id": "IelTiE6hFrkD",
        "colab_type": "code",
        "outputId": "07377024-39ad-49b1-da46-a512acaed0b0",
        "colab": {
          "base_uri": "https://localhost:8080/",
          "height": 295
        }
      },
      "source": [
        "# plot the training and validation accuracy at every epoch\n",
        "epoch_count = range(1, len(train_accs) + 1)\n",
        "plt.title('Accuracy at every iteration')\n",
        "plt.plot(epoch_count, train_accs, 'r-')\n",
        "plt.plot(epoch_count, valid_accs, 'b-')\n",
        "plt.legend(['Training Accuracy', 'Validation Accuracy'])\n",
        "plt.xlabel('Epoch')\n",
        "plt.ylabel('Accuracy')\n",
        "plt.show()\n"
      ],
      "execution_count": 30,
      "outputs": [
        {
          "output_type": "display_data",
          "data": {
            "image/png": "[encoded data removed]",
            "text/plain": [
              "<Figure size 432x288 with 1 Axes>"
            ]
          },
          "metadata": {
            "tags": []
          }
        }
      ]
    },
    {
      "cell_type": "code",
      "metadata": {
        "id": "av0aoPJHFrkG",
        "colab_type": "code",
        "outputId": "40cbf8f4-c9e2-4682-bc53-08f48cc071ba",
        "colab": {
          "base_uri": "https://localhost:8080/",
          "height": 274
        }
      },
      "source": [
        "# present the table for the final accuracy and loss with training and validation datasets\n",
        "fig = plt.figure(dpi=80)\n",
        "ax = fig.add_subplot(1,1,1)\n",
        "\n",
        "table_data=[\n",
        "    [\"$\\\\bf{dataset}$\", \"$\\\\bf{loss}$\", \"$\\\\bf{accuracy}$\"],\n",
        "    [\"training\", train_losses[-1].item(), train_accs[-1].item()],\n",
        "    [\"validation\", valid_losses[-1].item(), valid_accs[-1].item()],\n",
        "]\n",
        "\n",
        "table = ax.table(cellText=table_data, loc='center', cellLoc='center')\n",
        "table.set_fontsize(14)\n",
        "table.scale(2,4)\n",
        "ax.axis('off')\n",
        "\n",
        "plt.show()\n"
      ],
      "execution_count": 31,
      "outputs": [
        {
          "output_type": "display_data",
          "data": {
            "image/png": "[encoded data removed]",
            "text/plain": [
              "<Figure size 480x320 with 1 Axes>"
            ]
          },
          "metadata": {
            "tags": []
          }
        }
      ]
    }
  ]
}